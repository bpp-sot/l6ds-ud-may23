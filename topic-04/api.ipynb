{
 "cells": [
  {
   "cell_type": "markdown",
   "metadata": {},
   "source": [
    "# APIs and JSON\n",
    "\n",
    "In this notebook, we will learn how to use APIs and JSON in Python. We will use the `requests` library to make requests to an API and get data in JSON format. We will also learn how to parse JSON data and extract the information we need."
   ]
  },
  {
   "cell_type": "code",
   "execution_count": null,
   "metadata": {},
   "outputs": [],
   "source": [
    "%pip install --quiet matplotlib pandas requests IPython"
   ]
  },
  {
   "cell_type": "markdown",
   "metadata": {},
   "source": [
    "## A quick guide to URLs in Python\n",
    "\n",
    "Before we start, let's learn how to use URLs in Python. We can use the `urllib` module to parse URLs and get the different parts of the URL."
   ]
  },
  {
   "cell_type": "code",
   "execution_count": null,
   "metadata": {},
   "outputs": [],
   "source": [
    "from urllib.parse import urlparse, parse_qs\n",
    "\n",
    "\n",
    "url = \"https://api.open-meteo.com/v1/forecast?latitude=51.5074&longitude=-0.1278&hourly=temperature_2m\"\n",
    "\n",
    "parsed = urlparse(url)\n",
    "\n",
    "scheme = parsed.scheme\n",
    "netloc = parsed.netloc\n",
    "path = parsed.path\n",
    "query = parse_qs(parsed.query)\n",
    "\n",
    "print(f\"URL Components of: {url}\")\n",
    "print(f\"  Scheme: {scheme}\")\n",
    "print(f\"  Network Location: {netloc}\")\n",
    "print(f\"  Path: {path}\")\n",
    "print(f\"  Query: {query}\")"
   ]
  },
  {
   "cell_type": "markdown",
   "metadata": {},
   "source": [
    "We can do the reverse as well, we can create a URL from its parts using the `urlunparse` function. This function takes a tuple of URL components and returns a valid URL. We need to convert query parameters into a string before passing them to the function, and we can use the `urlencode` function to do that."
   ]
  },
  {
   "cell_type": "code",
   "execution_count": null,
   "metadata": {},
   "outputs": [],
   "source": [
    "from urllib.parse import urlencode, urlunparse\n",
    "\n",
    "\n",
    "query_params = {\n",
    "\t\"latitude\": 51.5074,\n",
    "\t\"longitude\": -0.1278,\n",
    "\t\"hourly\": \"temperature_2m\"\n",
    "}\n",
    "\n",
    "query_string = urlencode(query_params)\n",
    "\n",
    "new_url = urlunparse(('https', 'api.open-meteo.com', 'v1/forecast', '', query_string, ''))\n",
    "print(new_url)\n"
   ]
  },
  {
   "cell_type": "markdown",
   "metadata": {},
   "source": [
    "## A quick guide to HTTP requests in Python\n",
    "\n",
    "HyperText Transfer Protocol (HTTP) is the protocol used to transfer data over the web. We can use the `requests` library to make HTTP requests in Python. The `requests` library is a simple and easy-to-use library that allows us to send HTTP requests and get responses.\n",
    "\n",
    "The client (our code) sends a request to the server (the API) and the server responds with a response. The request and response are both made up of headers and a body. \n",
    "\n",
    "Here’s an example of how to use the `requests` library to send a GET request:\n"
   ]
  },
  {
   "cell_type": "code",
   "execution_count": null,
   "metadata": {},
   "outputs": [],
   "source": [
    "import requests\n",
    "\n",
    "url = \"https://api.open-meteo.com/v1/forecast\"\n",
    "params = {\n",
    "    \"latitude\": 51.5074,\n",
    "    \"longitude\": -0.1278,\n",
    "    \"hourly\": \"temperature_2m\"\n",
    "}\n",
    "\n",
    "response = requests.get(url, params=params)\n",
    "\n",
    "if response.status_code == 200:\n",
    "    body = response.text\n",
    "    print(body)\n",
    "else:\n",
    "    print(f\"Error: {response.status_code}\")\n"
   ]
  },
  {
   "cell_type": "markdown",
   "metadata": {},
   "source": [
    "We can visualise this process using a UML sequence diagram:\n",
    "\n",
    "```mermaid\n",
    "sequenceDiagram\n",
    "    participant Client\n",
    "    participant Server\n",
    "\n",
    "    Client->>Server: GET /v1/forecast?latitude=51.5074&longitude=-0.1278&hourly=temperature_2m HTTP/1.1\n",
    "    Note right of Client: Request headers & parameters\n",
    "\n",
    "    Server->>Client: HTTP/1.1 200 OK\n",
    "    Note left of Server: Response headers & body\n",
    "```"
   ]
  },
  {
   "cell_type": "markdown",
   "metadata": {},
   "source": [
    "## Side (re)Quest - Debugging HTTP\n",
    "\n",
    "I want to show you how to add hooks to the `requests` library to debug the requests and responses. We can use add a response hook (a function that will get called when a response is made) to log the request and response.\n",
    "\n",
    "First, some utility function to print the request and response."
   ]
  },
  {
   "cell_type": "code",
   "execution_count": null,
   "metadata": {},
   "outputs": [],
   "source": [
    "from requests import Request, Response, Session\n",
    "\n",
    "\n",
    "def print_request(request: Request):\n",
    "    \"\"\"\n",
    "    Print the details of an HTTP request.\n",
    "\n",
    "    :param request: The request object.\n",
    "    \"\"\"\n",
    "    url = urlparse(request.url)\n",
    "\n",
    "    # Combine the path and query string (if present)\n",
    "    uri = \"?\".join([url.path, url.query]) if url.query else url.path\n",
    "\n",
    "    print(f\"\\n--> HTTP Request to {url.netloc}\")\n",
    "    print(f\"REQUEST: {request.method} {uri}\")\n",
    "    print(f\"HEADERS:\")\n",
    "\n",
    "    for key, value in request.headers.items():\n",
    "        print(f\"  {key}: {value}\")\n",
    "\n",
    "    if request.body:\n",
    "        print(f\"BODY: {request.body[:100]}...\" if len(\n",
    "            request.body) > 100 else f\"BODY: {request.body}\")\n",
    "\n",
    "\n",
    "def print_response(response: Response):\n",
    "    \"\"\"\n",
    "    Print the details of an HTTP response.\n",
    "\n",
    "    :param response: The response object.\n",
    "    \"\"\"\n",
    "    url = urlparse(response.url)\n",
    "\n",
    "    print(f\"\\n<-- HTTP Response from {url.netloc}\")\n",
    "    print(f\"RESPONSE: {response.status_code} {response.reason}\")\n",
    "    print(f\"HEADERS:\")\n",
    "\n",
    "    for key, value in response.headers.items():\n",
    "        print(f\"  {key}: {value}\")\n",
    "\n",
    "    if response.text:\n",
    "        print(f\"BODY: {response.text[:100]}...\" if len(\n",
    "            response.text) > 100 else f\"BODY: {response.body}\")"
   ]
  },
  {
   "cell_type": "markdown",
   "metadata": {},
   "source": [
    "This is the hook function that will be called when a response is made. It will call our help functions to print the request and response."
   ]
  },
  {
   "cell_type": "code",
   "execution_count": null,
   "metadata": {},
   "outputs": [],
   "source": [
    "def http_logger(response, *args, **kwargs):\n",
    "    \"\"\"\n",
    "    Log the details of an HTTP request and response.\n",
    "\n",
    "    :param response: The response object.\n",
    "    \"\"\"\n",
    "    print_request(response.request)\n",
    "    print_response(response)\n",
    "\n",
    "# Create a session to track request/response details\n",
    "session = Session()\n",
    "\n",
    "# Register the hook to log the details of each response\n",
    "\n",
    "session.hooks[\"response\"] = [http_logger]"
   ]
  },
  {
   "cell_type": "markdown",
   "metadata": {},
   "source": [
    "Now, when we make a request using the session object, the details of the request and response will be printed to the console."
   ]
  },
  {
   "cell_type": "code",
   "execution_count": null,
   "metadata": {},
   "outputs": [],
   "source": [
    "response = session.get(url, params=params)"
   ]
  },
  {
   "cell_type": "code",
   "execution_count": null,
   "metadata": {},
   "outputs": [],
   "source": [
    "response.ok"
   ]
  },
  {
   "cell_type": "code",
   "execution_count": null,
   "metadata": {},
   "outputs": [],
   "source": [
    "response.text"
   ]
  },
  {
   "cell_type": "code",
   "execution_count": null,
   "metadata": {},
   "outputs": [],
   "source": [
    "data = response.json()\n",
    "data"
   ]
  },
  {
   "cell_type": "code",
   "execution_count": null,
   "metadata": {},
   "outputs": [],
   "source": [
    "import pandas as pd\n",
    "\n",
    "\n",
    "df = pd.DataFrame()\n",
    "df[\"time\"] = pd.to_datetime(data[\"hourly\"][\"time\"])\n",
    "df[\"temperature\"] = data[\"hourly\"][\"temperature_2m\"]\n",
    "\n",
    "df.head()"
   ]
  },
  {
   "cell_type": "code",
   "execution_count": null,
   "metadata": {},
   "outputs": [],
   "source": [
    "from matplotlib import pyplot as plt\n",
    "\n",
    "\n",
    "plt.figure(figsize=(10, 6))\n",
    "plt.plot(df[\"time\"], df[\"temperature\"])\n",
    "plt.title(\"Temperature Forecast\")\n",
    "plt.xlabel(\"Time\")\n",
    "plt.ylabel(\"Temperature (°C)\")\n",
    "plt.xticks(rotation=45)\n",
    "plt.show()\n"
   ]
  },
  {
   "cell_type": "code",
   "execution_count": null,
   "metadata": {},
   "outputs": [],
   "source": [
    "import json\n",
    "\n",
    "\n",
    "json.dumps(data, indent=2)"
   ]
  },
  {
   "cell_type": "code",
   "execution_count": null,
   "metadata": {},
   "outputs": [],
   "source": [
    "with open(\"forecast.json\", \"w\") as file:\n",
    "    json.dump(data, file, indent=2)"
   ]
  },
  {
   "cell_type": "code",
   "execution_count": null,
   "metadata": {},
   "outputs": [],
   "source": [
    "data = None\n",
    "data"
   ]
  },
  {
   "cell_type": "code",
   "execution_count": null,
   "metadata": {},
   "outputs": [],
   "source": [
    "with open(\"forecast.json\", \"r\") as file:\n",
    "    data = json.load(file)"
   ]
  },
  {
   "cell_type": "code",
   "execution_count": null,
   "metadata": {},
   "outputs": [],
   "source": [
    "data"
   ]
  }
 ],
 "metadata": {
  "kernelspec": {
   "display_name": "Python 3",
   "language": "python",
   "name": "python3"
  },
  "language_info": {
   "codemirror_mode": {
    "name": "ipython",
    "version": 3
   },
   "file_extension": ".py",
   "mimetype": "text/x-python",
   "name": "python",
   "nbconvert_exporter": "python",
   "pygments_lexer": "ipython3",
   "version": "3.11.11"
  }
 },
 "nbformat": 4,
 "nbformat_minor": 2
}
