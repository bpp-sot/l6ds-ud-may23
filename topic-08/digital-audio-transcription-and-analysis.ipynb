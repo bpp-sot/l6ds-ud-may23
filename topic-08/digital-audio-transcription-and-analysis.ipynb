{
 "cells": [
  {
   "cell_type": "markdown",
   "metadata": {
    "id": "P55x6zF-A_qK"
   },
   "source": [
    "# Digital Audio, Transcription, and Analysis\n",
    "\n",
    "Digital audio is a representation of sound in a digital format. It is typically stored in a file format such as WAV, MP3, or FLAC. Digital audio is made up of a series of samples that represent the amplitude of the sound wave at a particular point in time. The sampling rate of the audio determines how many samples are taken per second, and the bit depth determines the resolution of each sample."
   ]
  },
  {
   "cell_type": "code",
   "execution_count": null,
   "metadata": {
    "colab": {
     "base_uri": "https://localhost:8080/"
    },
    "id": "vsPrULc4eOI5",
    "outputId": "d4361174-de95-482d-e44c-154a8fc913bd"
   },
   "outputs": [],
   "source": [
    "%pip install librosa matplotlib numpy openai openai-whisper python-dotenv IPython"
   ]
  },
  {
   "cell_type": "code",
   "execution_count": null,
   "metadata": {
    "colab": {
     "base_uri": "https://localhost:8080/"
    },
    "id": "xXZeswHvcBYu",
    "outputId": "a41b94c1-fc4e-416a-86ed-d5b88b4d0580"
   },
   "outputs": [],
   "source": [
    "from openai import OpenAI\n",
    "import os\n",
    "import dotenv\n",
    "\n",
    "dotenv.load_dotenv()\n",
    "\n",
    "openai = OpenAI(api_key=os.getenv('OPENAI_API_KEY'))"
   ]
  },
  {
   "cell_type": "code",
   "execution_count": null,
   "metadata": {},
   "outputs": [],
   "source": [
    "audio_file = 'chatgpt_audio_podcast.mp3'"
   ]
  },
  {
   "cell_type": "code",
   "execution_count": null,
   "metadata": {},
   "outputs": [],
   "source": [
    "import librosa\n",
    "import librosa.display\n",
    "import numpy as np\n",
    "import matplotlib.pyplot as plt\n",
    "from IPython.display import Audio\n",
    "\n",
    "def visualise_audio(file_path: str) -> Audio:\n",
    "    \"\"\"\n",
    "    Create multiple visualizations for an audio file\n",
    "\n",
    "    Parameters:\n",
    "    file_path (str): Path to the MP3 file\n",
    "    \"\"\"\n",
    "    # Load the audio file\n",
    "    y, sr = librosa.load(file_path)\n",
    "\n",
    "    plt.figure(figsize=(16, 9))\n",
    "\n",
    "    librosa.display.waveshow(y, sr=sr)\n",
    "\n",
    "    plt.title('Waveform')\n",
    "    plt.xlabel('Time (s)')\n",
    "    plt.ylabel('Amplitude')\n",
    "\n",
    "    plt.show()\n",
    "\n",
    "    # Display audio player\n",
    "    return Audio(y, rate=sr)\n",
    "\n",
    "# Example usage:\n",
    "visualise_audio(audio_file)"
   ]
  },
  {
   "cell_type": "code",
   "execution_count": null,
   "metadata": {
    "colab": {
     "base_uri": "https://localhost:8080/",
     "height": 191
    },
    "id": "T8qGrkMBpx0I",
    "outputId": "147bafe9-4315-482a-d85f-b099e96af4db"
   },
   "outputs": [],
   "source": [
    "import whisper\n",
    "\n",
    "model = whisper.load_model(\"base\")\n",
    "\n",
    "result = model.transcribe(audio_file)\n",
    "result"
   ]
  },
  {
   "cell_type": "code",
   "execution_count": null,
   "metadata": {},
   "outputs": [],
   "source": [
    "for segment in result['segments']:\n",
    "    start = segment['start']\n",
    "    text = segment['text']\n",
    "    print(f\"{start}s {text}\")"
   ]
  }
 ],
 "metadata": {
  "colab": {
   "provenance": []
  },
  "kernelspec": {
   "display_name": "Python 3",
   "name": "python3"
  },
  "language_info": {
   "codemirror_mode": {
    "name": "ipython",
    "version": 3
   },
   "file_extension": ".py",
   "mimetype": "text/x-python",
   "name": "python",
   "nbconvert_exporter": "python",
   "pygments_lexer": "ipython3",
   "version": "3.11.10"
  }
 },
 "nbformat": 4,
 "nbformat_minor": 0
}
