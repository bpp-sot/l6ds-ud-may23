{
	"cells": [
		{
			"cell_type": "markdown",
			"metadata": {},
			"source": [
				"# Regular Expressions in Python\n",
				"\n",
				"This notebook demonstrates the use of regular expressions (regex) in Python. We'll cover basic pattern matching, commonly used regex patterns, and various regex methods."
			]
		},
		{
			"cell_type": "markdown",
			"metadata": {},
			"source": [
				"## 1. Importing the regex module"
			]
		},
		{
			"cell_type": "code",
			"execution_count": null,
			"metadata": {},
			"outputs": [],
			"source": [
				"import re"
			]
		},
		{
			"cell_type": "markdown",
			"metadata": {},
			"source": [
				"## 2. Basic Pattern Matching"
			]
		},
		{
			"cell_type": "code",
			"execution_count": null,
			"metadata": {},
			"outputs": [],
			"source": [
				"text = \"The quick brown fox jumps over the lazy dog\"\n",
				"\n",
				"# Simple pattern matching\n",
				"pattern = r\"fox\"\n",
				"match = re.search(pattern, text)\n",
				"print(f\"Pattern '{pattern}' found:\", match is not None)\n",
				"\n",
				"# Using ^ (start of string) and $ (end of string)\n",
				"print(re.search(r\"^The\", text) is not None)  # True\n",
				"print(re.search(r\"dog$\", text) is not None)  # True"
			]
		},
		{
			"cell_type": "markdown",
			"metadata": {},
			"source": [
				"## 3. Character Classes"
			]
		},
		{
			"cell_type": "code",
			"execution_count": null,
			"metadata": {},
			"outputs": [],
			"source": [
				"# [aeiou] matches any vowel\n",
				"vowels = re.findall(r\"[aeiou]\", text)\n",
				"print(\"Vowels found:\", vowels)\n",
				"\n",
				"# [^aeiou] matches any consonant (^ inside [] means negation)\n",
				"consonants = re.findall(r\"[^aeiou\\s]\", text)\n",
				"print(\"Consonants found:\", consonants)\n",
				"\n",
				"# \\d matches any digit\n",
				"numbers = re.findall(r\"\\d\", \"The year is 2023\")\n",
				"print(\"Numbers found:\", numbers)"
			]
		},
		{
			"cell_type": "markdown",
			"metadata": {},
			"source": [
				"## 4. Quantifiers"
			]
		},
		{
			"cell_type": "code",
			"execution_count": null,
			"metadata": {},
			"outputs": [],
			"source": [
				"# * (0 or more), + (1 or more), ? (0 or 1)\n",
				"print(re.search(r\"fox*\", \"fo\") is not None)  # True\n",
				"print(re.search(r\"fox+\", \"fo\") is not None)  # False\n",
				"print(re.search(r\"fox?\", \"fo\") is not None)  # True\n",
				"\n",
				"# {n} (exactly n times), {n,} (n or more times), {n,m} (between n and m times)\n",
				"print(re.search(r\"\\d{4}\", \"The year is 2023\") is not None)  # True\n",
				"print(re.search(r\"\\d{5}\", \"The year is 2023\") is not None)  # False"
			]
		},
		{
			"cell_type": "markdown",
			"metadata": {},
			"source": [
				"## 5. Groups and Capturing"
			]
		},
		{
			"cell_type": "code",
			"execution_count": null,
			"metadata": {},
			"outputs": [],
			"source": [
				"phone = \"Call me at 123-456-7890 or (987) 654-3210\"\n",
				"\n",
				"# Capturing groups with ()\n",
				"pattern = r\"(\\d{3})[-.]?(\\d{3})[-.]?(\\d{4})\"\n",
				"matches = re.findall(pattern, phone)\n",
				"print(\"Phone numbers found:\", matches)\n",
				"\n",
				"# Named groups with (?P<name>...)\n",
				"pattern = r\"(?P<area>\\d{3})[-.]?(?P<local>\\d{3})[-.]?(?P<number>\\d{4})\"\n",
				"for match in re.finditer(pattern, phone):\n",
				"    print(match.groupdict())"
			]
		},
		{
			"cell_type": "markdown",
			"metadata": {},
			"source": [
				"## 6. Common Regex Methods"
			]
		},
		{
			"cell_type": "code",
			"execution_count": null,
			"metadata": {},
			"outputs": [],
			"source": [
				"text = \"The rain in Spain falls mainly on the plain.\"\n",
				"\n",
				"# re.search() - Find first occurrence\n",
				"match = re.search(r\"a[i|ll]\", text)\n",
				"print(\"First match:\", match.group() if match else \"No match\")\n",
				"\n",
				"# re.findall() - Find all occurrences\n",
				"matches = re.findall(r\"a[i|ll]\", text)\n",
				"print(\"All matches:\", matches)\n",
				"\n",
				"# re.sub() - Substitution\n",
				"new_text = re.sub(r\"a[i|ll]\", \"XX\", text)\n",
				"print(\"After substitution:\", new_text)\n",
				"\n",
				"# re.split() - Split string by pattern\n",
				"split_text = re.split(r\"\\s+\", text)\n",
				"print(\"Split text:\", split_text)"
			]
		},
		{
			"cell_type": "markdown",
			"metadata": {},
			"source": [
				"## 7. Greedy vs. Non-Greedy Matching"
			]
		},
		{
			"cell_type": "code",
			"execution_count": null,
			"metadata": {},
			"outputs": [],
			"source": [
				"text = \"<p>This is a paragraph</p><p>This is another paragraph</p>\"\n",
				"\n",
				"# Greedy matching (default)\n",
				"greedy = re.findall(r\"<p>.*</p>\", text)\n",
				"print(\"Greedy matching:\", greedy)\n",
				"\n",
				"# Non-greedy matching (adding ?)\n",
				"non_greedy = re.findall(r\"<p>.*?</p>\", text)\n",
				"print(\"Non-greedy matching:\", non_greedy)"
			]
		},
		{
			"cell_type": "markdown",
			"metadata": {},
			"source": [
				"## 8. Lookahead and Lookbehind"
			]
		},
		{
			"cell_type": "code",
			"execution_count": null,
			"metadata": {},
			"outputs": [],
			"source": [
				"text = \"I have $10 and €20\"\n",
				"\n",
				"# Positive lookahead (?=...)\n",
				"dollars = re.findall(r\"\\d+(?=\\s*\\$)\", text)\n",
				"print(\"Dollars:\", dollars)\n",
				"\n",
				"# Positive lookbehind (?<=...)\n",
				"euros = re.findall(r\"(?<=€\\s*)\\d+\", text)\n",
				"print(\"Euros:\", euros)"
			]
		},
		{
			"cell_type": "markdown",
			"metadata": {},
			"source": [
				"## 9. Flags"
			]
		},
		{
			"cell_type": "code",
			"execution_count": null,
			"metadata": {},
			"outputs": [],
			"source": [
				"text = \"Python is AWESOME\\nRegex is POWERFUL\"\n",
				"\n",
				"# Case-insensitive matching\n",
				"matches = re.findall(r\"awesome\", text, re.IGNORECASE)\n",
				"print(\"Case-insensitive matches:\", matches)\n",
				"\n",
				"# Multiline matching\n",
				"matches = re.findall(r\"^\\w+\", text, re.MULTILINE)\n",
				"print(\"Words at the start of each line:\", matches)"
			]
		},
		{
			"cell_type": "markdown",
			"metadata": {},
			"source": [
				"## 10. Practice Exercise"
			]
		},
		{
			"cell_type": "code",
			"execution_count": null,
			"metadata": {},
			"outputs": [],
			"source": [
				"# Exercise: Extract all email addresses from the given text\n",
				"\n",
				"text = \"\"\"Contact us at info@example.com or support@company.org\n",
				"For sales inquiries, email sales@business.com\n",
				"Invalid emails: @invalid.com, no@domain, missing@.com\n",
				"\"\"\"\n",
				"\n",
				"# Write your regex pattern here\n",
				"pattern = r\"\\b[A-Za-z0-9._%+-]+@[A-Za-z0-9.-]+\\.[A-Z|a-z]{2,}\\b\"\n",
				"\n",
				"# Find all email addresses\n",
				"email_addresses = re.findall(pattern, text)\n",
				"\n",
				"print(\"Email addresses found:\")\n",
				"for email in email_addresses:\n",
				"    print(email)"
			]
		},
		{
			"cell_type": "markdown",
			"metadata": {},
			"source": [
				"## Conclusion\n",
				"\n",
				"This notebook has demonstrated various regular expression techniques in Python, including:\n",
				"- Basic pattern matching\n",
				"- Character classes\n",
				"- Quantifiers\n",
				"- Groups and capturing\n",
				"- Common regex methods\n",
				"- Greedy vs. non-greedy matching\n",
				"- Lookahead and lookbehind\n",
				"- Flags\n",
				"\n",
				"Practice these techniques to become proficient in using regular expressions for text processing and pattern matching in Python!"
			]
		}
	],
	"metadata": {
		"kernelspec": {
			"display_name": "Python 3",
			"language": "python",
			"name": "python3"
		},
		"language_info": {
			"codemirror_mode": {
				"name": "ipython",
				"version": 3
			},
			"file_extension": ".py",
			"mimetype": "text/x-python",
			"name": "python",
			"nbconvert_exporter": "python",
			"pygments_lexer": "ipython3",
			"version": "3.8.8"
		}
	},
	"nbformat": 4,
	"nbformat_minor": 4
}