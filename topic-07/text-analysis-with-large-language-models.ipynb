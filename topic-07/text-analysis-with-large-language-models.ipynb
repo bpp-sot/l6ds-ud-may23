{
 "cells": [
  {
   "cell_type": "markdown",
   "metadata": {},
   "source": [
    "# Text Analysis with Large Language Models\n",
    "## Advanced Applications and Techniques\n",
    "\n",
    "In this notebook, we'll explore practical applications of LLMs for text analysis:\n",
    "* Text extraction from unstructured documents\n",
    "* Sentiment analysis and opinion mining\n",
    "* Named entity recognition\n",
    "* Text summarization\n",
    "* Converting unstructured text to structured formats"
   ]
  },
  {
   "cell_type": "code",
   "execution_count": null,
   "metadata": {},
   "outputs": [],
   "source": [
    "%pip install openai python-dotenv"
   ]
  },
  {
   "cell_type": "code",
   "execution_count": null,
   "metadata": {},
   "outputs": [],
   "source": [
    "from openai import OpenAI\n",
    "import os\n",
    "\n",
    "# Set your API key\n",
    "# Best practice is to use environment variables\n",
    "openai = OpenAI(\n",
    "\tapi_key=os.environ.get(\"OPENAI_API_KEY\")\n",
    ")"
   ]
  },
  {
   "cell_type": "code",
   "execution_count": null,
   "metadata": {},
   "outputs": [],
   "source": [
    "import json\n",
    "import pandas as pd\n",
    "\n",
    "# Helper function from previous notebook\n",
    "def get_completion(prompt, model=\"gpt-3.5-turbo\"):\n",
    "    messages = [{\"role\": \"user\", \"content\": prompt}]\n",
    "    response = openai.chat.completions.create(\n",
    "        model=model,\n",
    "        messages=messages,\n",
    "        temperature=0\n",
    "    )\n",
    "    return response.choices[0].message.content"
   ]
  },
  {
   "cell_type": "markdown",
   "metadata": {},
   "source": [
    "### 1. Text Extraction from Unstructured Documents\n",
    "\n",
    "Often, we need to extract specific information from messy, unstructured text. Let's look at an example with an email:"
   ]
  },
  {
   "cell_type": "code",
   "execution_count": null,
   "metadata": {},
   "outputs": [],
   "source": [
    "email_text = \"\"\"\n",
    "From: john.smith@example.com\n",
    "Sent: Tuesday, November 28, 2024 2:30 PM\n",
    "To: sarah.jones@example.com\n",
    "Subject: Project Timeline Update\n",
    "\n",
    "Hi Sarah,\n",
    "\n",
    "Following up on our meeting yesterday. Here are the key deliverables and dates:\n",
    "- Initial prototype due by Jan 15\n",
    "- User testing phase: Feb 1-15\n",
    "- Final release scheduled for March 1st\n",
    "\n",
    "Budget is set at $50,000. Please let me know if you need anything else.\n",
    "\n",
    "Best regards,\n",
    "John\n",
    "\"\"\"\n",
    "\n",
    "prompt = f\"\"\"\n",
    "Extract the following information from the email and return as JSON:\n",
    "- sender\n",
    "- recipient\n",
    "- project_milestones (as an array of objects with 'task' and 'date')\n",
    "- budget\n",
    "\n",
    "Email: {email_text}\n",
    "\"\"\"\n",
    "\n",
    "response = get_completion(prompt)\n",
    "print(json.dumps(json.loads(response), indent=2))"
   ]
  },
  {
   "cell_type": "markdown",
   "metadata": {},
   "source": [
    "### 2. Advanced Sentiment Analysis\n",
    "\n",
    "Let's go beyond basic positive/negative classification to extract detailed sentiment information:"
   ]
  },
  {
   "cell_type": "code",
   "execution_count": null,
   "metadata": {},
   "outputs": [],
   "source": [
    "reviews = [\n",
    "    \"The new interface is clean but it takes me forever to find basic features now.\",\n",
    "    \"Customer service responded quickly, though they couldn't solve my problem.\",\n",
    "    \"Great product overall, especially the battery life, but a bit expensive.\"\n",
    "]\n",
    "\n",
    "prompt = f\"\"\"\n",
    "Analyze each review and provide:\n",
    "1. Overall sentiment (positive/negative/mixed)\n",
    "2. Specific aspects mentioned and their sentiment\n",
    "3. Any suggestions or improvements mentioned\n",
    "\n",
    "Format as JSON with these fields for each review.\n",
    "\n",
    "Reviews: {reviews}\n",
    "\"\"\"\n",
    "\n",
    "response = get_completion(prompt)\n",
    "print(json.dumps(json.loads(response), indent=2))"
   ]
  },
  {
   "cell_type": "markdown",
   "metadata": {},
   "source": [
    "### 3. Named Entity Recognition\n",
    "\n",
    "We can use LLMs to identify and categorize named entities in text:"
   ]
  },
  {
   "cell_type": "code",
   "execution_count": null,
   "metadata": {},
   "outputs": [],
   "source": [
    "article = \"\"\"\n",
    "Apple CEO Tim Cook announced today at their Cupertino headquarters that the company\n",
    "is partnering with Microsoft to enhance AI capabilities in iOS. The project, set to\n",
    "launch in Silicon Valley next month, has already attracted $50M in investment from\n",
    "Google Ventures. The announcement caused Apple's stock to rise 3% on NASDAQ.\n",
    "\"\"\"\n",
    "\n",
    "prompt = f\"\"\"\n",
    "Extract and categorize all named entities from the text into these categories:\n",
    "- People (with their roles)\n",
    "- Organizations\n",
    "- Locations\n",
    "- Products\n",
    "- Financial figures\n",
    "\n",
    "Return as JSON. Include context where relevant.\n",
    "\n",
    "Text: {article}\n",
    "\"\"\"\n",
    "\n",
    "response = get_completion(prompt)\n",
    "print(json.dumps(json.loads(response), indent=2))"
   ]
  },
  {
   "cell_type": "markdown",
   "metadata": {},
   "source": [
    "### 4. Text Summarization\n",
    "\n",
    "LLMs excel at generating different types of summaries:"
   ]
  },
  {
   "cell_type": "code",
   "execution_count": null,
   "metadata": {},
   "outputs": [],
   "source": [
    "long_text = \"\"\"\n",
    "The Internet of Things (IoT) represents a major transformation in the way everyday\n",
    "objects interact with us and each other. By embedding sensors and connectivity into\n",
    "previously 'dumb' devices, IoT enables real-time data collection and automated responses.\n",
    "However, this connectivity also raises significant security and privacy concerns. Recent\n",
    "studies have shown that many IoT devices lack basic security features, making them\n",
    "vulnerable to attacks. Additionally, the massive amount of personal data collected by\n",
    "these devices has led to growing privacy concerns among consumers and regulators alike.\n",
    "Despite these challenges, the IoT market continues to grow rapidly, with analysts\n",
    "projecting over 25 billion connected devices by 2025. Companies are investing heavily\n",
    "in IoT solutions for industrial automation, smart homes, and urban infrastructure.\n",
    "\"\"\"\n",
    "\n",
    "# Generate different types of summaries\n",
    "prompts = [\n",
    "    \"Provide a one-sentence summary of the main point.\",\n",
    "    \"Summarize the key benefits and challenges mentioned.\",\n",
    "    \"Create a bullet-point summary of the most important facts and figures.\"\n",
    "]\n",
    "\n",
    "for i, prompt in enumerate(prompts, 1):\n",
    "    full_prompt = f\"{prompt}\\n\\nText: {long_text}\"\n",
    "    print(f\"\\nSummary Type {i}:\")\n",
    "    print(get_completion(full_prompt))\n",
    "    print(\"-\" * 80)"
   ]
  },
  {
   "cell_type": "markdown",
   "metadata": {},
   "source": [
    "### 5. Converting Unstructured Text to Structured Data\n",
    "\n",
    "Let's convert a complex text document into a structured format suitable for analysis:"
   ]
  },
  {
   "cell_type": "code",
   "execution_count": null,
   "metadata": {},
   "outputs": [],
   "source": [
    "medical_notes = \"\"\"\n",
    "Patient Visit Notes - 11/28/2024\n",
    "\n",
    "Patient: Bilal Khan\n",
    "Age: 45\n",
    "Chief Complaint: Persistent headache and fatigue\n",
    "\n",
    "History: Patient reports experiencing headaches for the past 2 weeks, describes pain\n",
    "as \"throbbing\" and primarily on the right side. Associated symptoms include fatigue\n",
    "and mild nausea. No previous history of migraines. Currently taking ibuprofen 400mg\n",
    "PRN with minimal relief.\n",
    "\n",
    "Vitals:\n",
    "BP: 128/82\n",
    "HR: 76\n",
    "Temp: 98.6F\n",
    "\n",
    "Assessment: Probable tension headache with possible migraine component.\n",
    "\n",
    "Plan:\n",
    "1. Prescribed sumatriptan 50mg PRN\n",
    "2. Recommended stress management techniques\n",
    "3. Follow-up in 2 weeks if symptoms persist\n",
    "\"\"\"\n",
    "\n",
    "prompt = f\"\"\"\n",
    "Convert these medical notes into a structured format with the following elements:\n",
    "1. Patient demographics\n",
    "2. Symptoms (current and associated)\n",
    "3. Vital signs\n",
    "4. Current medications\n",
    "5. Treatment plan\n",
    "\n",
    "Return as JSON with appropriate nested structures.\n",
    "\n",
    "Notes: {medical_notes}\n",
    "\"\"\"\n",
    "\n",
    "response = get_completion(prompt)\n",
    "structured_data = json.loads(response)\n",
    "\n",
    "# Convert to pandas DataFrame for easy viewing\n",
    "# Note: This requires flattening the nested structure\n",
    "df = pd.json_normalize(structured_data)\n",
    "print(\"\\nStructured Data as DataFrame:\")\n",
    "display(df)"
   ]
  },
  {
   "cell_type": "markdown",
   "metadata": {},
   "source": [
    "### Practice Exercise\n",
    "\n",
    "Try combining multiple techniques we've learned to analyze this customer feedback:"
   ]
  },
  {
   "cell_type": "code",
   "execution_count": null,
   "metadata": {},
   "outputs": [],
   "source": [
    "feedback = \"\"\"\n",
    "Customer Feedback Summary - Q4 2024\n",
    "\n",
    "Mobile App Reviews:\n",
    "- \"Love the new dark mode! Much easier on the eyes at night\" - @user123\n",
    "- \"App crashes whenever I try to upload photos\" - @tech_savvy\n",
    "- \"Great updates overall but please add landscape mode\" - @mobile_user\n",
    "\n",
    "Email Feedback:\n",
    "Sarah Johnson (sarah.j@email.com) reported slow loading times on Android devices.\n",
    "Mark Wilson suggested adding a search feature in the settings menu.\n",
    "\n",
    "Support Tickets:\n",
    "- Ticket #1234: Payment processing error on Chrome browser\n",
    "- Ticket #1235: Password reset emails not being received\n",
    "- Ticket #1236: Account sync issues between desktop and mobile\n",
    "\"\"\"\n",
    "\n",
    "# Your task:\n",
    "# 1. Extract all issues mentioned\n",
    "# 2. Categorize them (bug, feature request, performance issue, etc.)\n",
    "# 3. Identify mentioned platforms/devices\n",
    "# 4. Analyze sentiment of user feedback\n",
    "# 5. Generate a structured summary\n",
    "\n",
    "# Write your prompt here"
   ]
  }
 ],
 "metadata": {
  "kernelspec": {
   "display_name": "Python 3",
   "language": "python",
   "name": "python3"
  },
  "language_info": {
   "codemirror_mode": {
    "name": "ipython",
    "version": 3
   },
   "file_extension": ".py",
   "mimetype": "text/x-python",
   "name": "python",
   "nbconvert_exporter": "python",
   "pygments_lexer": "ipython3",
   "version": "3.11.10"
  }
 },
 "nbformat": 4,
 "nbformat_minor": 4
}
