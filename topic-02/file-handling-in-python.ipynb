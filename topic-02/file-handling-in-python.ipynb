{
	"cells": [
		{
			"cell_type": "markdown",
			"metadata": {},
			"source": [
				"# File Handling in Python\n",
				"\n",
				"This notebook demonstrates how to open, read, write, and create files using Python. We'll cover various file operations and best practices for file handling."
			]
		},
		{
			"cell_type": "markdown",
			"metadata": {},
			"source": [
				"## 1. Opening and Reading Files"
			]
		},
		{
			"cell_type": "markdown",
			"metadata": {},
			"source": [
				"### 1.1 Reading an entire file"
			]
		},
		{
			"cell_type": "code",
			"execution_count": null,
			"metadata": {},
			"outputs": [],
			"source": [
				"# First, let's create a sample file to work with\n",
				"with open('sample.txt', 'w') as f:\n",
				"    f.write(\"This is a sample file.\\nIt has multiple lines.\\nWe will use this for our examples.\")\n",
				"\n",
				"# Now, let's read the entire file\n",
				"with open('sample.txt', 'r') as file:\n",
				"    content = file.read()\n",
				"    print(content)"
			]
		},
		{
			"cell_type": "markdown",
			"metadata": {},
			"source": [
				"### 1.2 Reading a file line by line"
			]
		},
		{
			"cell_type": "code",
			"execution_count": null,
			"metadata": {},
			"outputs": [],
			"source": [
				"with open('sample.txt', 'r') as file:\n",
				"    for line in file:\n",
				"        print(line.strip())  # strip() removes leading/trailing whitespace"
			]
		},
		{
			"cell_type": "markdown",
			"metadata": {},
			"source": [
				"## 2. Writing to Files"
			]
		},
		{
			"cell_type": "markdown",
			"metadata": {},
			"source": [
				"### 2.1 Writing to a new file"
			]
		},
		{
			"cell_type": "code",
			"execution_count": null,
			"metadata": {},
			"outputs": [],
			"source": [
				"with open('new_file.txt', 'w') as file:\n",
				"    file.write(\"This is a new file.\\n\")\n",
				"    file.write(\"We're writing multiple lines.\\n\")\n",
				"    file.write(\"File handling in Python is easy!\")\n",
				"\n",
				"# Now let's read and print the content of the new file\n",
				"with open('new_file.txt', 'r') as file:\n",
				"    print(file.read())"
			]
		},
		{
			"cell_type": "markdown",
			"metadata": {},
			"source": [
				"### 2.2 Appending to an existing file"
			]
		},
		{
			"cell_type": "code",
			"execution_count": null,
			"metadata": {},
			"outputs": [],
			"source": [
				"with open('new_file.txt', 'a') as file:\n",
				"    file.write(\"\\nThis line is appended to the existing file.\")\n",
				"\n",
				"# Let's read and print the updated file\n",
				"with open('new_file.txt', 'r') as file:\n",
				"    print(file.read())"
			]
		},
		{
			"cell_type": "markdown",
			"metadata": {},
			"source": [
				"## 3. Working with CSV Files"
			]
		},
		{
			"cell_type": "code",
			"execution_count": null,
			"metadata": {},
			"outputs": [],
			"source": [
				"import csv\n",
				"\n",
				"# Writing to a CSV file\n",
				"data = [\n",
				"    ['Name', 'Age', 'City'],\n",
				"    ['Alice', '25', 'New York'],\n",
				"    ['Bob', '30', 'San Francisco'],\n",
				"    ['Charlie', '35', 'London']\n",
				"]\n",
				"\n",
				"with open('sample.csv', 'w', newline='') as file:\n",
				"    writer = csv.writer(file)\n",
				"    writer.writerows(data)\n",
				"\n",
				"# Reading from a CSV file\n",
				"with open('sample.csv', 'r') as file:\n",
				"    reader = csv.reader(file)\n",
				"    for row in reader:\n",
				"        print(', '.join(row))"
			]
		},
		{
			"cell_type": "markdown",
			"metadata": {},
			"source": [
				"## 4. File and Directory Operations"
			]
		},
		{
			"cell_type": "code",
			"execution_count": null,
			"metadata": {},
			"outputs": [],
			"source": [
				"import os\n",
				"\n",
				"# Check if a file exists\n",
				"print(os.path.exists('sample.txt'))\n",
				"\n",
				"# Get the current working directory\n",
				"print(os.getcwd())\n",
				"\n",
				"# List files in the current directory\n",
				"print(os.listdir())\n",
				"\n",
				"# Create a new directory\n",
				"os.mkdir('new_directory')\n",
				"\n",
				"# Rename a file\n",
				"os.rename('sample.txt', 'renamed_sample.txt')\n",
				"\n",
				"# Remove a file\n",
				"os.remove('new_file.txt')\n",
				"\n",
				"# Remove a directory\n",
				"os.rmdir('new_directory')"
			]
		},
		{
			"cell_type": "markdown",
			"metadata": {},
			"source": [
				"## 5. Best Practices and Error Handling"
			]
		},
		{
			"cell_type": "code",
			"execution_count": null,
			"metadata": {},
			"outputs": [],
			"source": [
				"try:\n",
				"    with open('non_existent_file.txt', 'r') as file:\n",
				"        content = file.read()\n",
				"except FileNotFoundError:\n",
				"    print(\"The file does not exist.\")\n",
				"except IOError:\n",
				"    print(\"An error occurred while reading the file.\")\n",
				"finally:\n",
				"    print(\"This code always runs, regardless of whether an exception occurred.\")"
			]
		},
		{
			"cell_type": "markdown",
			"metadata": {},
			"source": [
				"## Conclusion\n",
				"\n",
				"This notebook has demonstrated various file handling operations in Python, including:\n",
				"- Opening and reading files\n",
				"- Writing and appending to files\n",
				"- Working with CSV files\n",
				"- File and directory operations\n",
				"- Best practices and error handling\n",
				"\n",
				"Remember to always close your files after use (or use the `with` statement, which does this automatically) and handle potential errors when working with files."
			]
		}
	],
	"metadata": {
		"kernelspec": {
			"display_name": "Python 3",
			"language": "python",
			"name": "python3"
		},
		"language_info": {
			"codemirror_mode": {
				"name": "ipython",
				"version": 3
			},
			"file_extension": ".py",
			"mimetype": "text/x-python",
			"name": "python",
			"nbconvert_exporter": "python",
			"pygments_lexer": "ipython3",
			"version": "3.8.8"
		}
	},
	"nbformat": 4,
	"nbformat_minor": 4
}