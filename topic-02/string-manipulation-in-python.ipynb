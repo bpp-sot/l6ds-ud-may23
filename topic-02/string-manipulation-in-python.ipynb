{
	"cells": [
		{
			"cell_type": "markdown",
			"metadata": {},
			"source": [
				"# String Manipulation in Python\n",
				"\n",
				"This notebook demonstrates various string manipulation techniques in Python. We'll cover string creation, basic operations, and useful string methods."
			]
		},
		{
			"cell_type": "markdown",
			"metadata": {},
			"source": [
				"## 1. Creating Strings"
			]
		},
		{
			"cell_type": "code",
			"execution_count": null,
			"metadata": {},
			"outputs": [],
			"source": [
				"# Single quotes\n",
				"s1 = 'Hello, World!'\n",
				"\n",
				"# Double quotes\n",
				"s2 = \"Python is awesome\"\n",
				"\n",
				"# Triple quotes for multi-line strings\n",
				"s3 = \"\"\"This is a\n",
				"multi-line\n",
				"string\"\"\"\n",
				"\n",
				"print(s1)\n",
				"print(s2)\n",
				"print(s3)"
			]
		},
		{
			"cell_type": "markdown",
			"metadata": {},
			"source": [
				"## 2. String Concatenation and Repetition"
			]
		},
		{
			"cell_type": "code",
			"execution_count": null,
			"metadata": {},
			"outputs": [],
			"source": [
				"# Concatenation\n",
				"first_name = \"John\"\n",
				"last_name = \"Doe\"\n",
				"full_name = first_name + \" \" + last_name\n",
				"print(\"Full name:\", full_name)\n",
				"\n",
				"# Repetition\n",
				"repeat_string = \"Python\" * 3\n",
				"print(\"Repeated string:\", repeat_string)"
			]
		},
		{
			"cell_type": "markdown",
			"metadata": {},
			"source": [
				"## 3. String Indexing and Slicing"
			]
		},
		{
			"cell_type": "code",
			"execution_count": null,
			"metadata": {},
			"outputs": [],
			"source": [
				"text = \"Python Programming\"\n",
				"\n",
				"# Indexing\n",
				"print(\"First character:\", text[0])\n",
				"print(\"Last character:\", text[-1])\n",
				"\n",
				"# Slicing\n",
				"print(\"First 6 characters:\", text[:6])\n",
				"print(\"Last 11 characters:\", text[-11:])\n",
				"print(\"Every second character:\", text[::2])"
			]
		},
		{
			"cell_type": "markdown",
			"metadata": {},
			"source": [
				"## 4. String Methods"
			]
		},
		{
			"cell_type": "code",
			"execution_count": null,
			"metadata": {},
			"outputs": [],
			"source": [
				"sample = \"  Hello, World!  \"\n",
				"\n",
				"# Changing case\n",
				"print(\"Uppercase:\", sample.upper())\n",
				"print(\"Lowercase:\", sample.lower())\n",
				"print(\"Title case:\", sample.title())\n",
				"\n",
				"# Removing whitespace\n",
				"print(\"Stripped:\", sample.strip())\n",
				"\n",
				"# Replacing\n",
				"print(\"Replaced:\", sample.replace(\"World\", \"Python\"))\n",
				"\n",
				"# Splitting\n",
				"print(\"Split:\", sample.split(\",\"))"
			]
		},
		{
			"cell_type": "markdown",
			"metadata": {},
			"source": [
				"## 5. String Formatting"
			]
		},
		{
			"cell_type": "code",
			"execution_count": null,
			"metadata": {},
			"outputs": [],
			"source": [
				"name = \"Alice\"\n",
				"age = 30\n",
				"\n",
				"# Using .format()\n",
				"print(\"My name is {} and I'm {} years old\".format(name, age))\n",
				"\n",
				"# Using f-strings (Python 3.6+)\n",
				"print(f\"My name is {name} and I'm {age} years old\")\n",
				"\n",
				"# Formatting numbers\n",
				"pi = 3.14159\n",
				"print(f\"Pi to 2 decimal places: {pi:.2f}\")"
			]
		},
		{
			"cell_type": "markdown",
			"metadata": {},
			"source": [
				"## 6. String Checking Methods"
			]
		},
		{
			"cell_type": "code",
			"execution_count": null,
			"metadata": {},
			"outputs": [],
			"source": [
				"text = \"Python123\"\n",
				"\n",
				"print(\"Is alphanumeric?\", text.isalnum())\n",
				"print(\"Is alphabetic?\", text.isalpha())\n",
				"print(\"Is digit?\", text.isdigit())\n",
				"print(\"Is lowercase?\", text.islower())\n",
				"print(\"Is uppercase?\", text.isupper())\n",
				"print(\"Starts with 'Py'?\", text.startswith(\"Py\"))\n",
				"print(\"Ends with '123'?\", text.endswith(\"123\"))"
			]
		},
		{
			"cell_type": "markdown",
			"metadata": {},
			"source": [
				"## 7. Finding and Counting"
			]
		},
		{
			"cell_type": "code",
			"execution_count": null,
			"metadata": {},
			"outputs": [],
			"source": [
				"sentence = \"Python is awesome. Python is powerful. Python is flexible.\"\n",
				"\n",
				"print(\"Index of 'awesome':\", sentence.find(\"awesome\"))\n",
				"print(\"Count of 'Python':\", sentence.count(\"Python\"))"
			]
		},
		{
			"cell_type": "markdown",
			"metadata": {},
			"source": [
				"## 8. Advanced String Operations"
			]
		},
		{
			"cell_type": "code",
			"execution_count": null,
			"metadata": {},
			"outputs": [],
			"source": [
				"# Joining strings\n",
				"words = [\"Python\", \"is\", \"awesome\"]\n",
				"print(\"Joined string:\", \" \".join(words))\n",
				"\n",
				"# Center align\n",
				"print(\"Centered:\", \"Python\".center(20, \"*\"))\n",
				"\n",
				"# Translate\n",
				"trans_table = str.maketrans(\"aeiou\", \"12345\")\n",
				"print(\"Translated:\", \"hello\".translate(trans_table))"
			]
		},
		{
			"cell_type": "markdown",
			"metadata": {},
			"source": [
				"## 9. Practice Exercise"
			]
		},
		{
			"cell_type": "code",
			"execution_count": null,
			"metadata": {},
			"outputs": [],
			"source": [
				"# Exercise: Create a function that takes a string and returns it with the first and last characters swapped\n",
				"\n",
				"def swap_first_last(string):\n",
				"    if len(string) <= 1:\n",
				"        return string\n",
				"    return string[-1] + string[1:-1] + string[0]\n",
				"\n",
				"# Test the function\n",
				"print(swap_first_last(\"Python\"))  # Should print 'nythoP'\n",
				"print(swap_first_last(\"a\"))       # Should print 'a'\n",
				"print(swap_first_last(\"Hello\"))   # Should print 'oellH'"
			]
		},
		{
			"cell_type": "markdown",
			"metadata": {},
			"source": [
				"## Conclusion\n",
				"\n",
				"This notebook has demonstrated various string manipulation techniques in Python, including:\n",
				"- Creating strings\n",
				"- Basic string operations (concatenation, repetition)\n",
				"- Indexing and slicing\n",
				"- Common string methods\n",
				"- String formatting\n",
				"- String checking methods\n",
				"- Finding and counting in strings\n",
				"- Advanced string operations\n",
				"\n",
				"Practice these techniques to become proficient in handling text data in Python!"
			]
		}
	],
	"metadata": {
		"kernelspec": {
			"display_name": "Python 3",
			"language": "python",
			"name": "python3"
		},
		"language_info": {
			"codemirror_mode": {
				"name": "ipython",
				"version": 3
			},
			"file_extension": ".py",
			"mimetype": "text/x-python",
			"name": "python",
			"nbconvert_exporter": "python",
			"pygments_lexer": "ipython3",
			"version": "3.8.8"
		}
	},
	"nbformat": 4,
	"nbformat_minor": 4
}