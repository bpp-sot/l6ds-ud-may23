{
 "cells": [
  {
   "cell_type": "markdown",
   "metadata": {
    "id": "P55x6zF-A_qK"
   },
   "source": [
    "# Document Parsing and Summarisation\n",
    "\n",
    "Document parsing is the process of converting a document into a structured format. This structured format can be a Microsoft Word DOCX, a PDF, or any other format that can be easily processed by a computer. Document summarisation is the process of extracting the most important information from a document. This can be done by extracting the most important sentences or paragraphs from the document."
   ]
  },
  {
   "cell_type": "code",
   "execution_count": null,
   "metadata": {
    "colab": {
     "base_uri": "https://localhost:8080/"
    },
    "id": "vsPrULc4eOI5",
    "outputId": "d4361174-de95-482d-e44c-154a8fc913bd"
   },
   "outputs": [],
   "source": [
    "%pip install nltk openai python-dotenv python-docx"
   ]
  },
  {
   "cell_type": "code",
   "execution_count": null,
   "metadata": {
    "colab": {
     "base_uri": "https://localhost:8080/"
    },
    "id": "xXZeswHvcBYu",
    "outputId": "a41b94c1-fc4e-416a-86ed-d5b88b4d0580"
   },
   "outputs": [],
   "source": [
    "from openai import OpenAI\n",
    "import os\n",
    "import dotenv\n",
    "\n",
    "dotenv.load_dotenv()\n",
    "\n",
    "# Get the API key from the environment\n",
    "api_key = os.getenv('OPENAI_API_KEY')\n",
    "\n",
    "openai = OpenAI(api_key=api_key)"
   ]
  },
  {
   "cell_type": "code",
   "execution_count": null,
   "metadata": {},
   "outputs": [],
   "source": [
    "import docx\n",
    "\n",
    "# Function to extract text from a docx file\n",
    "def get_text_from_docx(filename: str) -> str:\n",
    "    \"\"\"\n",
    "    Extract text from a Word document.\n",
    "\n",
    "    Args:\n",
    "    filename (str): Path to the Word document.\n",
    "\n",
    "    Returns:\n",
    "    str: The text extracted from the Word document.\n",
    "    \"\"\"\n",
    "    doc = docx.Document(filename)\n",
    "\n",
    "    full_text = []\n",
    "\n",
    "    for para in doc.paragraphs:\n",
    "        full_text.append(para.text)\n",
    "\n",
    "    return '\\n'.join(full_text)\n",
    "\n",
    "text = get_text_from_docx('Government of Valoria.docx')\n",
    "print(text)"
   ]
  },
  {
   "cell_type": "code",
   "execution_count": null,
   "metadata": {},
   "outputs": [],
   "source": [
    "from nltk.tokenize import sent_tokenize, word_tokenize\n",
    "from nltk.corpus import stopwords\n",
    "from string import punctuation\n",
    "from heapq import nlargest\n",
    "\n",
    "def analyse(text, num_sentences=3):\n",
    "    paragraphs = text.split('\\n')\n",
    "\n",
    "    sentences = []\n",
    "\n",
    "    for para in paragraphs:\n",
    "        sentences.extend(sent_tokenize(para))\n",
    "\n",
    "    words = word_tokenize(text.lower())\n",
    "\n",
    "    # Remove stopwords and punctuation\n",
    "    stop_words = set(stopwords.words('english') + list(punctuation))\n",
    "    word_freq = {}\n",
    "\n",
    "    for word in words:\n",
    "        if word not in stop_words:\n",
    "            if word not in word_freq:\n",
    "                word_freq[word] = 1\n",
    "            else:\n",
    "                word_freq[word] += 1\n",
    "\n",
    "    # Calculate sentence scores based on word frequencies\n",
    "    sentence_scores = {}\n",
    "\n",
    "    for sentence in sentences:\n",
    "        for word in word_tokenize(sentence.lower()):\n",
    "            if word in word_freq:\n",
    "                if sentence not in sentence_scores:\n",
    "                    sentence_scores[sentence] = word_freq[word]\n",
    "                else:\n",
    "                    sentence_scores[sentence] += word_freq[word]\n",
    "\n",
    "    return nlargest(num_sentences, sentence_scores, key=sentence_scores.get)\n",
    "\n",
    "for index, sentence in enumerate(analyse(text)):\n",
    "    print(f\"{index + 1}. {sentence}\")"
   ]
  },
  {
   "cell_type": "code",
   "execution_count": null,
   "metadata": {},
   "outputs": [],
   "source": [
    "def summarise(text: str) -> str:\n",
    "    \"\"\"\n",
    "    Summarise the input text.\n",
    "\n",
    "    Args:\n",
    "    text (str): The text to summarise.\n",
    "\n",
    "    Returns:\n",
    "    str: The summarised text.\n",
    "    \"\"\"\n",
    "    try:\n",
    "        response = openai.chat.completions.create(\n",
    "            model=\"gpt-3.5-turbo\",\n",
    "            messages=[\n",
    "                {\n",
    "                    \"role\": \"system\",\n",
    "                    \"content\": \"You will summarise submitted text into 3 main key points.\"\n",
    "                },\n",
    "                {\n",
    "                    \"role\": \"user\",\n",
    "                    \"content\": text\n",
    "                }\n",
    "            ],\n",
    "        )\n",
    "\n",
    "        latest_message = response.choices[0].message.content\n",
    "        return latest_message\n",
    "\n",
    "    except Exception as e:\n",
    "        return str(e)\n",
    "\n",
    "print(\"Summarised text:\", summarise(text))"
   ]
  }
 ],
 "metadata": {
  "colab": {
   "provenance": []
  },
  "kernelspec": {
   "display_name": "Python 3",
   "name": "python3"
  },
  "language_info": {
   "codemirror_mode": {
    "name": "ipython",
    "version": 3
   },
   "file_extension": ".py",
   "mimetype": "text/x-python",
   "name": "python",
   "nbconvert_exporter": "python",
   "pygments_lexer": "ipython3",
   "version": "3.11.10"
  }
 },
 "nbformat": 4,
 "nbformat_minor": 0
}
